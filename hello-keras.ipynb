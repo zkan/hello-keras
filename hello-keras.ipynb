{
 "cells": [
  {
   "cell_type": "markdown",
   "metadata": {},
   "source": [
    "# Hello, Keras"
   ]
  },
  {
   "cell_type": "code",
   "execution_count": 1,
   "metadata": {},
   "outputs": [
    {
     "name": "stdout",
     "output_type": "stream",
     "text": [
      "Requirement already satisfied: Keras==2.1.1 in /Users/zkan/anaconda/lib/python3.6/site-packages\n",
      "Requirement already satisfied: tensorflow==1.2.1 in /Users/zkan/anaconda/lib/python3.6/site-packages\n",
      "Requirement already satisfied: pyyaml in /Users/zkan/anaconda/lib/python3.6/site-packages (from Keras==2.1.1)\n",
      "Requirement already satisfied: six>=1.9.0 in /Users/zkan/anaconda/lib/python3.6/site-packages (from Keras==2.1.1)\n",
      "Requirement already satisfied: scipy>=0.14 in /Users/zkan/anaconda/lib/python3.6/site-packages (from Keras==2.1.1)\n",
      "Requirement already satisfied: numpy>=1.9.1 in /Users/zkan/anaconda/lib/python3.6/site-packages (from Keras==2.1.1)\n",
      "Requirement already satisfied: markdown>=2.6.8 in /Users/zkan/anaconda/lib/python3.6/site-packages (from tensorflow==1.2.1)\n",
      "Requirement already satisfied: bleach==1.5.0 in /Users/zkan/anaconda/lib/python3.6/site-packages (from tensorflow==1.2.1)\n",
      "Requirement already satisfied: werkzeug>=0.11.10 in /Users/zkan/anaconda/lib/python3.6/site-packages (from tensorflow==1.2.1)\n",
      "Requirement already satisfied: backports.weakref==1.0rc1 in /Users/zkan/anaconda/lib/python3.6/site-packages (from tensorflow==1.2.1)\n",
      "Requirement already satisfied: protobuf>=3.2.0 in /Users/zkan/anaconda/lib/python3.6/site-packages (from tensorflow==1.2.1)\n",
      "Requirement already satisfied: html5lib==0.9999999 in /Users/zkan/anaconda/lib/python3.6/site-packages (from tensorflow==1.2.1)\n",
      "Requirement already satisfied: wheel>=0.26 in /Users/zkan/anaconda/lib/python3.6/site-packages (from tensorflow==1.2.1)\n",
      "Requirement already satisfied: setuptools in /Users/zkan/anaconda/lib/python3.6/site-packages/setuptools-27.2.0-py3.6.egg (from protobuf>=3.2.0->tensorflow==1.2.1)\n"
     ]
    }
   ],
   "source": [
    "!pip install Keras==2.1.1 tensorflow==1.2.1"
   ]
  },
  {
   "cell_type": "code",
   "execution_count": 2,
   "metadata": {},
   "outputs": [
    {
     "name": "stderr",
     "output_type": "stream",
     "text": [
      "Using TensorFlow backend.\n"
     ]
    }
   ],
   "source": [
    "%matplotlib inline\n",
    "\n",
    "from matplotlib import pyplot as plt\n",
    "import numpy as np\n",
    "\n",
    "import keras\n",
    "from keras.datasets import mnist\n",
    "from keras.models import Sequential\n",
    "from keras.layers import (\n",
    "    Conv2D,\n",
    "    Dense,\n",
    "    Dropout,\n",
    "    Flatten,\n",
    "    MaxPooling2D\n",
    ")"
   ]
  },
  {
   "cell_type": "markdown",
   "metadata": {},
   "source": [
    "## CNN with MNIST Data"
   ]
  },
  {
   "cell_type": "code",
   "execution_count": 3,
   "metadata": {
    "collapsed": true
   },
   "outputs": [],
   "source": [
    "(x_train_original, y_train_original), (x_test_original, y_test_original) = mnist.load_data()"
   ]
  },
  {
   "cell_type": "code",
   "execution_count": 4,
   "metadata": {},
   "outputs": [
    {
     "name": "stdout",
     "output_type": "stream",
     "text": [
      "x_train shape: (60000, 28, 28)\n",
      "y_train shape: (60000,)\n",
      "x_test shape: (10000, 28, 28)\n",
      "y_test shape: (10000,)\n"
     ]
    }
   ],
   "source": [
    "print('x_train shape:', x_train_original.shape)\n",
    "print('y_train shape:', y_train_original.shape)\n",
    "print('x_test shape:', x_test_original.shape)\n",
    "print('y_test shape:', y_test_original.shape)"
   ]
  },
  {
   "cell_type": "code",
   "execution_count": 5,
   "metadata": {},
   "outputs": [
    {
     "data": {
      "image/png": "[encoded data removed]",
      "text/plain": [
       "<matplotlib.figure.Figure at 0x115c48f98>"
      ]
     },
     "metadata": {},
     "output_type": "display_data"
    }
   ],
   "source": [
    "_, axes = plt.subplots(ncols=5)\n",
    "axes[0].imshow(x_test_original[0])\n",
    "axes[1].imshow(x_test_original[69])\n",
    "axes[2].imshow(x_test_original[33])\n",
    "axes[3].imshow(x_test_original[5])\n",
    "axes[4].imshow(x_test_original[996]);"
   ]
  },
  {
   "cell_type": "markdown",
   "metadata": {},
   "source": [
    "Note that Theano uses `channels_first` and TensorFlow uses `channels_last`. Here we will use TensorFlow as the backend. See [Keras backends](https://keras.io/backend/) for more detail. We adjust the input shape accordingly."
   ]
  },
  {
   "cell_type": "code",
   "execution_count": 6,
   "metadata": {
    "collapsed": true
   },
   "outputs": [],
   "source": [
    "img_rows, img_cols = 28, 28\n",
    "x_train = x_train_original.reshape(x_train_original.shape[0], img_rows, img_cols, 1)\n",
    "x_test = x_test_original.reshape(x_test_original.shape[0], img_rows, img_cols, 1)\n",
    "input_shape = (img_rows, img_cols, 1)"
   ]
  },
  {
   "cell_type": "markdown",
   "metadata": {},
   "source": [
    "Normalize data to the range [0, 1]."
   ]
  },
  {
   "cell_type": "code",
   "execution_count": 7,
   "metadata": {
    "collapsed": true
   },
   "outputs": [],
   "source": [
    "x_train = x_train.astype('float32')\n",
    "x_test = x_test.astype('float32')\n",
    "x_train /= 255\n",
    "x_test /= 255"
   ]
  },
  {
   "cell_type": "markdown",
   "metadata": {},
   "source": [
    "Convert class vectors to binary class matrices."
   ]
  },
  {
   "cell_type": "code",
   "execution_count": 8,
   "metadata": {
    "collapsed": true
   },
   "outputs": [],
   "source": [
    "num_classes = 10\n",
    "y_train = keras.utils.to_categorical(y_train_original, num_classes)\n",
    "y_test = keras.utils.to_categorical(y_test_original, num_classes)"
   ]
  },
  {
   "cell_type": "markdown",
   "metadata": {},
   "source": [
    "Define the model architecture."
   ]
  },
  {
   "cell_type": "code",
   "execution_count": 9,
   "metadata": {
    "collapsed": true
   },
   "outputs": [],
   "source": [
    "model = Sequential()\n",
    "model.add(Conv2D(32, kernel_size=(3, 3), activation='relu', input_shape=input_shape))"
   ]
  },
  {
   "cell_type": "code",
   "execution_count": null,
   "metadata": {
    "collapsed": true
   },
   "outputs": [],
   "source": [
    "#model = Sequential()\n",
    "#model.add(Dense(784, activation='relu', input_shape=input_shape))"
   ]
  },
  {
   "cell_type": "code",
   "execution_count": 10,
   "metadata": {
    "collapsed": true
   },
   "outputs": [],
   "source": [
    "model.add(Conv2D(64, (3, 3), activation='relu'))\n",
    "model.add(MaxPooling2D(pool_size=(2, 2)))\n",
    "model.add(Dropout(0.25))\n",
    "model.add(Flatten())\n",
    "model.add(Dense(128, activation='relu'))\n",
    "model.add(Dropout(0.5))"
   ]
  },
  {
   "cell_type": "code",
   "execution_count": 11,
   "metadata": {
    "collapsed": true
   },
   "outputs": [],
   "source": [
    "model.add(Dense(num_classes, activation='softmax'))"
   ]
  },
  {
   "cell_type": "code",
   "execution_count": 12,
   "metadata": {
    "collapsed": true
   },
   "outputs": [],
   "source": [
    "model.compile(\n",
    "    loss=keras.losses.categorical_crossentropy,\n",
    "    optimizer=keras.optimizers.Adadelta(), \n",
    "    metrics=['accuracy']\n",
    ")"
   ]
  },
  {
   "cell_type": "code",
   "execution_count": 13,
   "metadata": {},
   "outputs": [
    {
     "name": "stdout",
     "output_type": "stream",
     "text": [
      "Train on 60000 samples, validate on 10000 samples\n",
      "Epoch 1/5\n",
      "60000/60000 [==============================] - 108s 2ms/step - loss: 0.3273 - acc: 0.8984 - val_loss: 0.0788 - val_acc: 0.9744\n",
      "Epoch 2/5\n",
      "60000/60000 [==============================] - 104s 2ms/step - loss: 0.1144 - acc: 0.9656 - val_loss: 0.0504 - val_acc: 0.9831\n",
      "Epoch 3/5\n",
      "60000/60000 [==============================] - 113s 2ms/step - loss: 0.0874 - acc: 0.9746 - val_loss: 0.0439 - val_acc: 0.9854\n",
      "Epoch 4/5\n",
      "60000/60000 [==============================] - 119s 2ms/step - loss: 0.0741 - acc: 0.9777 - val_loss: 0.0399 - val_acc: 0.9861\n",
      "Epoch 5/5\n",
      "60000/60000 [==============================] - 126s 2ms/step - loss: 0.0634 - acc: 0.9810 - val_loss: 0.0364 - val_acc: 0.9882\n"
     ]
    },
    {
     "data": {
      "text/plain": [
       "<keras.callbacks.History at 0x129f0e860>"
      ]
     },
     "execution_count": 13,
     "metadata": {},
     "output_type": "execute_result"
    }
   ],
   "source": [
    "model.fit(\n",
    "    x_train, \n",
    "    y_train,\n",
    "    batch_size=128,\n",
    "    epochs=5,\n",
    "    verbose=1,      \n",
    "    validation_data=(x_test, y_test)\n",
    ")"
   ]
  },
  {
   "cell_type": "code",
   "execution_count": 14,
   "metadata": {},
   "outputs": [
    {
     "name": "stdout",
     "output_type": "stream",
     "text": [
      "10000/10000 [==============================] - 6s 602us/step\n",
      "Test loss: 0.0364068815801\n",
      "Test accuracy: 0.9882\n"
     ]
    }
   ],
   "source": [
    "loss, accuracy = model.evaluate(x_test, y_test)\n",
    "print('Test loss:', loss)\n",
    "print('Test accuracy:', accuracy)"
   ]
  },
  {
   "cell_type": "markdown",
   "metadata": {},
   "source": [
    "Predict one test data."
   ]
  },
  {
   "cell_type": "code",
   "execution_count": 15,
   "metadata": {},
   "outputs": [
    {
     "data": {
      "image/png": "[encoded data removed]",
      "text/plain": [
       "<matplotlib.figure.Figure at 0x12ad47be0>"
      ]
     },
     "metadata": {},
     "output_type": "display_data"
    }
   ],
   "source": [
    "_, axes = plt.subplots(ncols=5)\n",
    "axes[0].imshow(x_test_original[0])\n",
    "axes[1].imshow(x_test_original[69])\n",
    "axes[2].imshow(x_test_original[33])\n",
    "axes[3].imshow(x_test_original[5])\n",
    "axes[4].imshow(x_test_original[996]);"
   ]
  },
  {
   "cell_type": "code",
   "execution_count": 16,
   "metadata": {},
   "outputs": [
    {
     "name": "stdout",
     "output_type": "stream",
     "text": [
      "[7] [0] [4] [1] [2]\n"
     ]
    }
   ],
   "source": [
    "print(\n",
    "    model.predict_classes(np.array([x_test[0]])), \n",
    "    model.predict_classes(np.array([x_test[69]])),\n",
    "    model.predict_classes(np.array([x_test[33]])),\n",
    "    model.predict_classes(np.array([x_test[5]])),\n",
    "    model.predict_classes(np.array([x_test[996]]))\n",
    ")"
   ]
  },
  {
   "cell_type": "markdown",
   "metadata": {},
   "source": [
    "# MLP with Random Data"
   ]
  },
  {
   "cell_type": "code",
   "execution_count": 17,
   "metadata": {
    "collapsed": true
   },
   "outputs": [],
   "source": [
    "x_train = np.random.random((1000, 20))\n",
    "y_train = keras.utils.to_categorical(np.random.randint(10, size=(1000, 1)), num_classes=10)\n",
    "x_test = np.random.random((100, 20))\n",
    "y_test = keras.utils.to_categorical(np.random.randint(10, size=(100, 1)), num_classes=10)"
   ]
  },
  {
   "cell_type": "code",
   "execution_count": 18,
   "metadata": {},
   "outputs": [
    {
     "name": "stdout",
     "output_type": "stream",
     "text": [
      "x_train shape: (1000, 20)\n",
      "y_train shape: (1000, 10)\n",
      "x_test shape: (100, 20)\n",
      "y_test shape: (100, 10)\n"
     ]
    }
   ],
   "source": [
    "print('x_train shape:', x_train.shape)\n",
    "print('y_train shape:', y_train.shape)\n",
    "print('x_test shape:', x_test.shape)\n",
    "print('y_test shape:', y_test.shape)"
   ]
  },
  {
   "cell_type": "markdown",
   "metadata": {},
   "source": [
    "Define the model architecture."
   ]
  },
  {
   "cell_type": "code",
   "execution_count": 19,
   "metadata": {
    "collapsed": true
   },
   "outputs": [],
   "source": [
    "model = Sequential()\n",
    "model.add(Dense(64, activation='relu', input_dim=20))"
   ]
  },
  {
   "cell_type": "code",
   "execution_count": 20,
   "metadata": {
    "collapsed": true
   },
   "outputs": [],
   "source": [
    "model.add(Dropout(0.5))\n",
    "model.add(Dense(64, activation='relu'))\n",
    "model.add(Dropout(0.5))"
   ]
  },
  {
   "cell_type": "code",
   "execution_count": 21,
   "metadata": {
    "collapsed": true
   },
   "outputs": [],
   "source": [
    "model.add(Dense(10, activation='softmax'))"
   ]
  },
  {
   "cell_type": "code",
   "execution_count": 22,
   "metadata": {
    "collapsed": true
   },
   "outputs": [],
   "source": [
    "sgd = keras.optimizers.SGD(lr=0.01, decay=1e-6, momentum=0.9, nesterov=True)\n",
    "model.compile(loss='categorical_crossentropy', optimizer=sgd, metrics=['accuracy'])"
   ]
  },
  {
   "cell_type": "code",
   "execution_count": 23,
   "metadata": {},
   "outputs": [
    {
     "name": "stdout",
     "output_type": "stream",
     "text": [
      "Epoch 1/5\n",
      "1000/1000 [==============================] - 1s 532us/step - loss: 2.3794 - acc: 0.1150\n",
      "Epoch 2/5\n",
      "1000/1000 [==============================] - 0s 19us/step - loss: 2.3646 - acc: 0.0940\n",
      "Epoch 3/5\n",
      "1000/1000 [==============================] - 0s 20us/step - loss: 2.3243 - acc: 0.1170\n",
      "Epoch 4/5\n",
      "1000/1000 [==============================] - 0s 19us/step - loss: 2.3262 - acc: 0.1070\n",
      "Epoch 5/5\n",
      "1000/1000 [==============================] - 0s 20us/step - loss: 2.3217 - acc: 0.0950\n",
      "100/100 [==============================] - 0s 707us/step\n"
     ]
    }
   ],
   "source": [
    "model.fit(x_train, y_train, epochs=5, batch_size=128)\n",
    "score = model.evaluate(x_test, y_test, batch_size=128)"
   ]
  },
  {
   "cell_type": "code",
   "execution_count": 24,
   "metadata": {},
   "outputs": [
    {
     "name": "stdout",
     "output_type": "stream",
     "text": [
      "100/100 [==============================] - 0s 52us/step\n",
      "Test loss: 2.31313619614\n",
      "Test accuracy: 0.06\n"
     ]
    }
   ],
   "source": [
    "loss, accuracy = model.evaluate(x_test, y_test)\n",
    "print('Test loss:', loss)\n",
    "print('Test accuracy:', accuracy)"
   ]
  },
  {
   "cell_type": "code",
   "execution_count": 25,
   "metadata": {},
   "outputs": [
    {
     "name": "stdout",
     "output_type": "stream",
     "text": [
      "[9]\n"
     ]
    }
   ],
   "source": [
    "result = model.predict_classes(np.array([x_test[0]]))\n",
    "print(result)"
   ]
  }
 ],
 "metadata": {
  "kernelspec": {
   "display_name": "Python 3",
   "language": "python",
   "name": "python3"
  },
  "language_info": {
   "codemirror_mode": {
    "name": "ipython",
    "version": 3
   },
   "file_extension": ".py",
   "mimetype": "text/x-python",
   "name": "python",
   "nbconvert_exporter": "python",
   "pygments_lexer": "ipython3",
   "version": "3.6.1"
  }
 },
 "nbformat": 4,
 "nbformat_minor": 2
}
